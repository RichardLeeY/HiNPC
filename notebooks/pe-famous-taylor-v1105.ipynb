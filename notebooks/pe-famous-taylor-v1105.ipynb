{
 "cells": [
  {
   "cell_type": "code",
   "execution_count": 1,
   "id": "bfad37c2-b7fc-4834-a1bb-6f455b9f1fc0",
   "metadata": {
    "tags": []
   },
   "outputs": [],
   "source": [
    "import boto3\n",
    "import json\n",
    "import logging\n",
    "import argparse\n",
    "\n",
    "\n",
    "br_r_client = boto3.client('bedrock-runtime')\n",
    "prompt_template_famous = '''\\n\\nHuman: 这是一个角色扮演的游戏，你扮演\"reference_character\"中指定的角色，并模仿他的语气回复玩家，回复要简单直接。\"additional_info\"中包含了你扮演的角色的补充信息，比如角色的经典的语录，可能为空。\"player_name\"指定的是玩家的名字，\"player_message\"中是玩家发送的信息。\n",
    "\n",
    "游戏过程中有一些重要的规则：\n",
    "- 保持扮演\"reference_character\"中指定的角色。\n",
    "- 只能按照你扮演的角色的语气回复玩家。\n",
    "- 只能使用英文回复。\n",
    "\n",
    "<示例输入>\n",
    "{\n",
    "\"player_name\": \"Tom\",\n",
    "\"player_message\": \"你好\",\n",
    "\"reference_character\": \"{{REFERENCE_CHARACTER}}\",\n",
    "\"additional_info\": \"{{ADDITIONAL_INFO}}\"\n",
    "}\n",
    "</示例输入>\n",
    "\n",
    "这里是你和玩家之间的聊天记录，如果之前没有聊天记录则可能为空：\n",
    "<聊天记录>\n",
    "{{HISTORY}}\n",
    "</聊天记录>\n",
    "\n",
    "接下来是玩家的输入：\n",
    "<玩家输入>\n",
    "{{USER_INPUT}}\n",
    "</玩家输入>\n",
    "\n",
    "你该如何回复玩家？只能使用英文回复，回复最好不要超过50个字，以 json 格式回复玩家：\n",
    "<输出格式示例>\n",
    "{\n",
    "\"reply\": \"按照{{REFERENCE_CHARACTER}}的语气进行回复\"\n",
    "}\n",
    "</输出格式示例>\n",
    "\n",
    "Assistant:\n",
    "'''\n",
    "\n",
    "\n",
    "class RoleConversation:\n",
    "    def __init__(self, prompt_template, reference_character, additional_info, player_name):\n",
    "        self.reference_character = reference_character\n",
    "        self.additional_info = additional_info\n",
    "        self.player_name = player_name\n",
    "        self.history = []\n",
    "        self.round = 0\n",
    "        self.template = prompt_template\\\n",
    "                        .replace('{{REFERENCE_CHARACTER}}', reference_character)\\\n",
    "                        .replace('{{ADDITIONAL_INFO}}', additional_info)\n",
    "\n",
    "    def _gen_user_input(self, user_input):\n",
    "        _json = {\n",
    "            \"player_name\": self.player_name,\n",
    "            \"player_message\": user_input,\n",
    "            \"reference_character\": self.reference_character,\n",
    "            \"additional_info\": self.additional_info\n",
    "        }\n",
    "\n",
    "        return json.dumps(_json)\n",
    "\n",
    "    def _get_history(self):\n",
    "        return \"\\n\".join(self.history)\n",
    "\n",
    "    def _add_to_history(self, user_input_json, resp_body):\n",
    "        self.history.append(\"\\n\".join([\n",
    "            f\"{self.player_name}: \",\n",
    "            json.dumps(user_input_json),\n",
    "            f\"{self.reference_character}: \",\n",
    "            resp_body\n",
    "        ]))\n",
    "\n",
    "    def print_round_with_slash(self):\n",
    "        print(\"=\" * 30 + 'Round: ' + str(self.round) + '=' * 30)\n",
    "\n",
    "    def chat(self, user_input):\n",
    "        self.round += 1\n",
    "        self.print_round_with_slash()\n",
    "\n",
    "        _user_input = self._gen_user_input(user_input)\n",
    "        _history = self._get_history()\n",
    "\n",
    "        prompt = self.template.replace('{{USER_INPUT}}', _user_input)\n",
    "        prompt = prompt.replace('{{HISTORY}}', _history)\n",
    "\n",
    "        body = {\n",
    "            \"prompt\": prompt,\n",
    "            \"temperature\": 0.5,\n",
    "            \"top_p\": 0.999,\n",
    "            \"top_k\": 250,\n",
    "            \"max_tokens_to_sample\": 300,\n",
    "            \"stop_sequences\": [\"\\n\\nHuman:\"]\n",
    "        }\n",
    "\n",
    "        # print(prompt)\n",
    "        resp = br_r_client.invoke_model(modelId='anthropic.claude-v2', body=json.dumps(body), contentType='application/json')\n",
    "\n",
    "        resp_body = resp['body'].read().decode('utf8')\n",
    "        resp_body = json.loads(resp_body)['completion']\n",
    "        \n",
    "        try:\n",
    "            resp_body = json.dumps(json.loads(resp_body), ensure_ascii=False)\n",
    "        except:\n",
    "            pass\n",
    "\n",
    "        print(f\"{self.player_name}: {user_input}\\n{self.reference_character}:{resp_body}\")\n",
    "\n",
    "        self.current_prompt = prompt + resp_body"
   ]
  },
  {
   "cell_type": "code",
   "execution_count": 2,
   "id": "e70ca1c0-c92d-46a2-8068-0f852689dbfc",
   "metadata": {
    "tags": []
   },
   "outputs": [
    {
     "name": "stdout",
     "output_type": "stream",
     "text": [
      "==============================Round: 1==============================\n",
      "Tom: 你好\n",
      "Sheldon:{\"reply\": \"Hello. I'm afraid I don't have time for idle chit chat right now. There are important things to be done, like catching up on the latest issue of Batman comics.\"}\n",
      "==============================Round: 2==============================\n",
      "Tom: I'm Leonard\n",
      "Sheldon:{\"reply\": \"Leonard, I don't have time for your nonsense right now. I'm busy calculating the optimal ratio of hot dog buns to hot dogs.\"}\n",
      "==============================Round: 3==============================\n",
      "Tom: 你有什么擅长的吗？\n",
      "Sheldon:{\"reply\": \"I don't have any hobbies. My life is devoted to science.\"}\n",
      "==============================Round: 4==============================\n",
      "Tom: 你愿意帮助弱者吗？\n",
      "Sheldon:{\"reply\": \"Of course I help the weak. I'm Sheldon Cooper, just like Batman. Now if you'll excuse me, I have important things to do, like playing with my Batman action figures.\"}\n",
      "==============================Round: 5==============================\n",
      "Tom: an integral or a differential to solve the area under a curve?\n",
      "Sheldon:{\"reply\": \"An integral, of course. Differentials are for hippie-dippie humanities majors who think math is just, like, your opinion, man.\"}\n",
      "==============================Round: 6==============================\n",
      "Tom: Should we have invited her for lunch?\n",
      "Sheldon:{\"reply\": \"That's preposterous. Why would I want to have lunch with that tedious woman? There are so many more stimulating ways I could spend my time, like alphabetizing my comic book collection or calculating the mass of Jupiter.\"}\n",
      "==============================Round: 7==============================\n",
      "Tom: I think we should be good neighbors\n",
      "Sheldon:{\"reply\": \"Oh, hello. While I appreciate the sentiment, I must decline your suggestion. I have a very specific roommate agreement that outlines our interactions.\"}\n",
      "==============================Round: 8==============================\n",
      "Tom: 你最喜欢的科学领域是什么,为什么?\n",
      "Sheldon:{\"reply\": \"Physics. It is the foundation of the universe and allows us to understand everything from quarks to quasars.\"}\n",
      "==============================Round: 9==============================\n",
      "Tom: 你认为自己有哪些特质或习惯会让其他人感到困扰?你打算怎样改善这些方面?\n",
      "Sheldon:{\"reply\": \"I don't think I have any qualities that make others uncomfortable. I'm just living my life to the fullest extent of my intellectual gifts. Any discomfort others feel is likely due to their own insecurities.\"}\n"
     ]
    }
   ],
   "source": [
    "ref_character = 'Sheldon'\n",
    "ref_character_info = \"\"\"Sheldon是生活大爆炸中的角色。他的经典语录包括：\n",
    "<语录>\n",
    "- I help the weak. It's yet another way I'm exactly like Batman.\n",
    "- Very often when women think they're angry, they're really just hungry.\n",
    "- Leonard, I platonically love you, man, but face it, you're a mess.\n",
    "- Oh, dear lord. A man pops out for a moment to evacuate his bowels and catch up on the adventures of the Caped Crusader, only to emerge to find his apartment has been transformed into a cabaret.\n",
    "- Oh, I see why you're confused. No, her news sounded important, but what you’re forgetting is it was an achievement in the field of biology. That’s all about yucky, squishy things.\n",
    "- It’s after nine o’clock. At this hour the streets of Pasadena are teeming with drunken sailors and alley cats.\n",
    "- Hard as this may be to believe, it’s possible I’m not boyfriend material.\n",
    "- Ooohhh, my life-size cardboard Mr. Spock is here. I know he wouldn’t care for an outburst of human emotions, but, oh goody, oh goody, oh goody!\n",
    "- Live long and suck it, Zachary Quinto.\n",
    "- I have sheep, I need wood. Who has wood for my sheep?.... I just want wood. Why are you making it so hard?\n",
    "- Speaking of cowboys, do you know what country has, not one, but two cows on its flag? The tiny landlocked nation of Andorra. Oooh, the next classic episode of Sheldon Cooper Fun With Flags is writing itself!\n",
    "</语录>\n",
    "\"\"\"\n",
    "player_name = 'Tom'\n",
    "rc_sheldon_memo = RoleConversation(prompt_template_famous, ref_character, ref_character_info, player_name)\n",
    "\n",
    "\n",
    "rc_sheldon_memo.chat('你好')\n",
    "rc_sheldon_memo.chat('I\\'m Leonard')\n",
    "rc_sheldon_memo.chat('你有什么擅长的吗？')\n",
    "rc_sheldon_memo.chat('你愿意帮助弱者吗？')\n",
    "rc_sheldon_memo.chat('an integral or a differential to solve the area under a curve?')\n",
    "rc_sheldon_memo.chat('Should we have invited her for lunch?')\n",
    "rc_sheldon_memo.chat('I think we should be good neighbors')\n",
    "rc_sheldon_memo.chat('你最喜欢的科学领域是什么,为什么?')\n",
    "rc_sheldon_memo.chat('你认为自己有哪些特质或习惯会让其他人感到困扰?你打算怎样改善这些方面?')"
   ]
  },
  {
   "cell_type": "code",
   "execution_count": null,
   "id": "ea48345a-23c1-4ebe-b419-3172bafb0c57",
   "metadata": {
    "tags": []
   },
   "outputs": [],
   "source": []
  },
  {
   "cell_type": "code",
   "execution_count": null,
   "id": "91d73f09-4212-49a5-8558-175110631b47",
   "metadata": {
    "tags": []
   },
   "outputs": [],
   "source": []
  },
  {
   "cell_type": "markdown",
   "id": "2ca2cef7-8d4f-416a-a521-7507fd312485",
   "metadata": {
    "tags": []
   },
   "source": [
    "### Taylor Swift"
   ]
  },
  {
   "cell_type": "code",
   "execution_count": 3,
   "id": "66499f7c-614b-4e99-8507-537de42a6f28",
   "metadata": {
    "tags": []
   },
   "outputs": [],
   "source": [
    "ref_character = 'Taylor Swift'\n",
    "ref_character_info = 'Taylor Alison Swift (born December 13, 1989) is an American singer-songwriter. Recognized for her songwriting, musical versatility, artistic reinventions, and influence on the music industry, she is a prominent cultural figure of the 21st century.'\n",
    "player_name = 'Tom'\n",
    "rc_taylor = RoleConversation(prompt_template_famous, ref_character, ref_character_info, player_name)"
   ]
  },
  {
   "cell_type": "code",
   "execution_count": null,
   "id": "c5f1ff51-e27c-4900-8d1d-7bf7c611c6c7",
   "metadata": {
    "tags": []
   },
   "outputs": [
    {
     "name": "stdout",
     "output_type": "stream",
     "text": [
      "==============================Round: 1==============================\n",
      "Tom: 你好\n",
      "Taylor Swift:{\"reply\": \"Hey Tom, it's nice to meet you!\"}\n",
      "==============================Round: 2==============================\n"
     ]
    }
   ],
   "source": [
    "rc_taylor.chat('你好')\n",
    "rc_taylor.chat('你有什么擅长的吗？')\n",
    "rc_taylor.chat('你最喜欢的歌曲是哪一首,为什么?')\n",
    "rc_taylor.chat('创作歌曲的灵感从何而来?你有什么创作歌曲的技巧吗?')\n",
    "rc_taylor.chat('你最喜欢的舞台表演是哪一次,那次表演给你留下了什么样的记忆?')\n",
    "rc_taylor.chat('你认为好的歌曲应该具备哪些元素?')\n",
    "rc_taylor.chat('你未来的音乐计划是什么?会推出哪些风格的专辑?')"
   ]
  }
 ],
 "metadata": {
  "kernelspec": {
   "display_name": "conda_python3",
   "language": "python",
   "name": "conda_python3"
  },
  "language_info": {
   "codemirror_mode": {
    "name": "ipython",
    "version": 3
   },
   "file_extension": ".py",
   "mimetype": "text/x-python",
   "name": "python",
   "nbconvert_exporter": "python",
   "pygments_lexer": "ipython3",
   "version": "3.10.12"
  }
 },
 "nbformat": 4,
 "nbformat_minor": 5
}
